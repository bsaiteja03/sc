{
  "nbformat": 4,
  "nbformat_minor": 0,
  "metadata": {
    "colab": {
      "name": "Memebership.ipynb",
      "provenance": [],
      "collapsed_sections": []
    },
    "kernelspec": {
      "name": "python3",
      "display_name": "Python 3"
    }
  },
  "cells": [
    {
      "cell_type": "code",
      "metadata": {
        "id": "dy08mIfN0L-r",
        "colab_type": "code",
        "colab": {
          "base_uri": "https://localhost:8080/",
          "height": 339
        },
        "outputId": "279cfc3b-0179-422e-8e2a-41cbf3b682dd"
      },
      "source": [
        "import numpy as np\n",
        "from numpy.testing import assert_allclose\n",
        "def gaussmf(x, mean, sigma):\n",
        "    return np.exp(-((x - mean)**2.) / (2 * sigma**2.))\n",
        "def gbellmf(x, a, b, c):\n",
        "    return 1. / (1. + np.abs((x - c) / a) ** (2 * b))\n",
        "def psigmf(x, b1, c1, b2, c2):\n",
        "    return sigmf(x, b1, c1) * sigmf(x, b2, c2)\n",
        "def sigmf(x, b, c):\n",
        "    return 1. / (1. + np.exp(- c * (x - b)))\n",
        "def test_gaussmf():\n",
        "    x = np.arange(-4, 5.1, 0.1)\n",
        "    expected = np.exp(- (x - 1.33)**2 / (2 * 0.45**2))\n",
        "    test = gaussmf(x, 1.33, 0.45)\n",
        "    assert_allclose(test, expected)\n",
        "def test_gbellmf():\n",
        "    x = np.arange(-4, 5.1, 0.1)\n",
        "    a, b, c = (2.4, 0.9, 1.33)\n",
        "    expected = 1 / (1 + np.abs(np.r_[x - c] / a) ** [2 * b])\n",
        "    test = gbellmf(x, a, b, c)\n",
        "    assert_allclose(test, expected)\n",
        "def test_psigmf():\n",
        "    x = np.arange(-4, 4.1, 0.1)\n",
        "    b1, c1, b2, c2 = -1.75, -np.pi / 2., 0.972, 0.43\n",
        "    expected = ((1 / (1. + np.exp(- c1 * (x - b1)))) *\n",
        "                (1 / (1. + np.exp(- c2 * (x - b2)))))\n",
        "    test = psigmf(x, b1, c1, b2, c2)\n",
        "    assert_allclose(test, expected)\n",
        "def test_sigmf():\n",
        "    x = np.arange(-4, 4.1, 0.1)\n",
        "    b1, c1 = 1.75, -np.pi / 2.\n",
        "    expected = 1 / (1. + np.exp(- c1 * (x - b1)))\n",
        "    test = sigmf(x, b1, c1)\n",
        "    assert_allclose(test, expected)\n",
        "print()    \n",
        "if __name__ == '__main__':\n",
        "        np.testing.run_module_suite()"
      ],
      "execution_count": 2,
      "outputs": [
        {
          "output_type": "stream",
          "text": [
            "\n"
          ],
          "name": "stdout"
        },
        {
          "output_type": "error",
          "ename": "AssertionError",
          "evalue": "ignored",
          "traceback": [
            "\u001b[0;31m---------------------------------------------------------------------------\u001b[0m",
            "\u001b[0;31mAssertionError\u001b[0m                            Traceback (most recent call last)",
            "\u001b[0;32m<ipython-input-2-fa3687d20551>\u001b[0m in \u001b[0;36m<module>\u001b[0;34m()\u001b[0m\n\u001b[1;32m     35\u001b[0m \u001b[0mprint\u001b[0m\u001b[0;34m(\u001b[0m\u001b[0;34m)\u001b[0m\u001b[0;34m\u001b[0m\u001b[0;34m\u001b[0m\u001b[0m\n\u001b[1;32m     36\u001b[0m \u001b[0;32mif\u001b[0m \u001b[0m__name__\u001b[0m \u001b[0;34m==\u001b[0m \u001b[0;34m'__main__'\u001b[0m\u001b[0;34m:\u001b[0m\u001b[0;34m\u001b[0m\u001b[0;34m\u001b[0m\u001b[0m\n\u001b[0;32m---> 37\u001b[0;31m         \u001b[0mnp\u001b[0m\u001b[0;34m.\u001b[0m\u001b[0mtesting\u001b[0m\u001b[0;34m.\u001b[0m\u001b[0mrun_module_suite\u001b[0m\u001b[0;34m(\u001b[0m\u001b[0;34m)\u001b[0m\u001b[0;34m\u001b[0m\u001b[0;34m\u001b[0m\u001b[0m\n\u001b[0m",
            "\u001b[0;32m/usr/local/lib/python3.6/dist-packages/numpy/testing/_private/nosetester.py\u001b[0m in \u001b[0;36mrun_module_suite\u001b[0;34m(file_to_run, argv)\u001b[0m\n\u001b[1;32m    101\u001b[0m         \u001b[0mfile_to_run\u001b[0m \u001b[0;34m=\u001b[0m \u001b[0mf\u001b[0m\u001b[0;34m.\u001b[0m\u001b[0mf_locals\u001b[0m\u001b[0;34m.\u001b[0m\u001b[0mget\u001b[0m\u001b[0;34m(\u001b[0m\u001b[0;34m'__file__'\u001b[0m\u001b[0;34m,\u001b[0m \u001b[0;32mNone\u001b[0m\u001b[0;34m)\u001b[0m\u001b[0;34m\u001b[0m\u001b[0;34m\u001b[0m\u001b[0m\n\u001b[1;32m    102\u001b[0m         \u001b[0;32mif\u001b[0m \u001b[0mfile_to_run\u001b[0m \u001b[0;32mis\u001b[0m \u001b[0;32mNone\u001b[0m\u001b[0;34m:\u001b[0m\u001b[0;34m\u001b[0m\u001b[0;34m\u001b[0m\u001b[0m\n\u001b[0;32m--> 103\u001b[0;31m             \u001b[0;32mraise\u001b[0m \u001b[0mAssertionError\u001b[0m\u001b[0;34m\u001b[0m\u001b[0;34m\u001b[0m\u001b[0m\n\u001b[0m\u001b[1;32m    104\u001b[0m \u001b[0;34m\u001b[0m\u001b[0m\n\u001b[1;32m    105\u001b[0m     \u001b[0;32mif\u001b[0m \u001b[0margv\u001b[0m \u001b[0;32mis\u001b[0m \u001b[0;32mNone\u001b[0m\u001b[0;34m:\u001b[0m\u001b[0;34m\u001b[0m\u001b[0;34m\u001b[0m\u001b[0m\n",
            "\u001b[0;31mAssertionError\u001b[0m: "
          ]
        }
      ]
    }
  ]
}