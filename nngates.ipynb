{
 "cells": [
  {
   "cell_type": "code",
   "execution_count": 1,
   "metadata": {},
   "outputs": [],
   "source": [
    "import numpy as np"
   ]
  },
  {
   "cell_type": "code",
   "execution_count": 2,
   "metadata": {},
   "outputs": [],
   "source": [
    "def sigmoid(x):\n",
    "    return 1/(1+np.exp(-x))"
   ]
  },
  {
   "cell_type": "code",
   "execution_count": 3,
   "metadata": {},
   "outputs": [],
   "source": [
    "def perceptron(inputs,weights,bias):\n",
    "    weights=np.array(weights)\n",
    "    net=np.add(np.dot(inputs,weights),bias)\n",
    "    out=sigmoid(net)\n",
    "    return np.round(out)"
   ]
  },
  {
   "cell_type": "code",
   "execution_count": 4,
   "metadata": {},
   "outputs": [],
   "source": [
    "def compute(data,weights,bias):\n",
    "    out=[perceptron(datum,weights,bias) for datum in data]\n",
    "    return out"
   ]
  },
  {
   "cell_type": "code",
   "execution_count": 5,
   "metadata": {},
   "outputs": [],
   "source": [
    "def print_output(dataset,gate,outputs):\n",
    "    print(\"Logic Function: {}\".format(gate.upper()))\n",
    "    print(\"X0\\tX1\\tX2\\tY\")\n",
    "    toPrint = [\"{1}\\t{2}\\t{3}\\t{0}\".format(output, *datas) for datas, output in zip(dataset, outputs)]\n",
    "    for i in toPrint:\n",
    "        print(i)"
   ]
  },
  {
   "cell_type": "code",
   "execution_count": 6,
   "metadata": {},
   "outputs": [],
   "source": [
    "dataset = np.array([\n",
    "      [0, 0, 0],\n",
    "      [0, 0, 1],\n",
    "      [0, 1, 0],\n",
    "      [0, 1, 1],\n",
    "      [1, 0, 0],\n",
    "      [1, 0, 1],\n",
    "      [1, 1, 0],\n",
    "      [1, 1, 1]\n",
    "    ])"
   ]
  },
  {
   "cell_type": "code",
   "execution_count": 10,
   "metadata": {},
   "outputs": [],
   "source": [
    " gates = {\"and\":compute(dataset,[1, 1, 1], -2),\n",
    "          \"or\": compute(dataset,[1, 1, 1], -0.9),\n",
    "          \"not\": compute(np.array([ [0], [1] ]),[-1], 1),\n",
    "          \"nand\": compute(dataset, [-1, -1, -1], 3),\n",
    "          \"nor\": compute(dataset, [-1, -1, -1], 1)\n",
    "         }"
   ]
  },
  {
   "cell_type": "code",
   "execution_count": 11,
   "metadata": {},
   "outputs": [
    {
     "name": "stdout",
     "output_type": "stream",
     "text": [
      "Logic Function: AND\n",
      "X0\tX1\tX2\tY\n",
      "0\t0\t0\t0.0\n",
      "0\t0\t1\t0.0\n",
      "0\t1\t0\t0.0\n",
      "0\t1\t1\t0.0\n",
      "1\t0\t0\t0.0\n",
      "1\t0\t1\t0.0\n",
      "1\t1\t0\t0.0\n",
      "1\t1\t1\t1.0\n",
      "Logic Function: OR\n",
      "X0\tX1\tX2\tY\n",
      "0\t0\t0\t0.0\n",
      "0\t0\t1\t1.0\n",
      "0\t1\t0\t1.0\n",
      "0\t1\t1\t1.0\n",
      "1\t0\t0\t1.0\n",
      "1\t0\t1\t1.0\n",
      "1\t1\t0\t1.0\n",
      "1\t1\t1\t1.0\n",
      "Logic Function: NOT\n",
      "X0\tX1\tX2\tY\n",
      "0\t0\t0\t1.0\n",
      "0\t0\t1\t0.0\n",
      "Logic Function: NAND\n",
      "X0\tX1\tX2\tY\n",
      "0\t0\t0\t1.0\n",
      "0\t0\t1\t1.0\n",
      "0\t1\t0\t1.0\n",
      "0\t1\t1\t1.0\n",
      "1\t0\t0\t1.0\n",
      "1\t0\t1\t1.0\n",
      "1\t1\t0\t1.0\n",
      "1\t1\t1\t0.0\n",
      "Logic Function: NOR\n",
      "X0\tX1\tX2\tY\n",
      "0\t0\t0\t1.0\n",
      "0\t0\t1\t0.0\n",
      "0\t1\t0\t0.0\n",
      "0\t1\t1\t0.0\n",
      "1\t0\t0\t0.0\n",
      "1\t0\t1\t0.0\n",
      "1\t1\t0\t0.0\n",
      "1\t1\t1\t0.0\n"
     ]
    }
   ],
   "source": [
    "for gate in gates:\n",
    "        print_output(dataset, gate, gates[gate])"
   ]
  },
  {
   "cell_type": "code",
   "execution_count": null,
   "metadata": {},
   "outputs": [],
   "source": []
  }
 ],
 "metadata": {
  "kernelspec": {
   "display_name": "Python 3",
   "language": "python",
   "name": "python3"
  },
  "language_info": {
   "codemirror_mode": {
    "name": "ipython",
    "version": 3
   },
   "file_extension": ".py",
   "mimetype": "text/x-python",
   "name": "python",
   "nbconvert_exporter": "python",
   "pygments_lexer": "ipython3",
   "version": "3.7.4"
  }
 },
 "nbformat": 4,
 "nbformat_minor": 2
}
